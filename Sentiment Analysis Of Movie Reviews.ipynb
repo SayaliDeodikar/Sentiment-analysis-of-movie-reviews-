{
 "cells": [
  {
   "cell_type": "markdown",
   "id": "617a7108",
   "metadata": {},
   "source": [
    "IMDB dataset having 50K movie reviews for natural language processing or text analytics. This is a dataset for binary sentiment classification containing substantially more data than previous benchmark datasets. This provides a set of 25,000 highly polar reviews for training and 25,000 fr testing. "
   ]
  },
  {
   "cell_type": "markdown",
   "id": "7b211b4e",
   "metadata": {},
   "source": [
    "## Initial exploration"
   ]
  },
  {
   "cell_type": "code",
   "execution_count": 61,
   "id": "c4a53023",
   "metadata": {},
   "outputs": [],
   "source": [
    "import numpy as np\n",
    "import pandas as pd"
   ]
  },
  {
   "cell_type": "code",
   "execution_count": 62,
   "id": "b8812cef",
   "metadata": {},
   "outputs": [],
   "source": [
    "data = pd.read_csv(\"IMDB Dataset.csv\")"
   ]
  },
  {
   "cell_type": "code",
   "execution_count": 63,
   "id": "4e529e4e",
   "metadata": {},
   "outputs": [
    {
     "data": {
      "text/html": [
       "<div>\n",
       "<style scoped>\n",
       "    .dataframe tbody tr th:only-of-type {\n",
       "        vertical-align: middle;\n",
       "    }\n",
       "\n",
       "    .dataframe tbody tr th {\n",
       "        vertical-align: top;\n",
       "    }\n",
       "\n",
       "    .dataframe thead th {\n",
       "        text-align: right;\n",
       "    }\n",
       "</style>\n",
       "<table border=\"1\" class=\"dataframe\">\n",
       "  <thead>\n",
       "    <tr style=\"text-align: right;\">\n",
       "      <th></th>\n",
       "      <th>review</th>\n",
       "      <th>sentiment</th>\n",
       "    </tr>\n",
       "  </thead>\n",
       "  <tbody>\n",
       "    <tr>\n",
       "      <th>0</th>\n",
       "      <td>One of the other reviewers has mentioned that ...</td>\n",
       "      <td>positive</td>\n",
       "    </tr>\n",
       "    <tr>\n",
       "      <th>1</th>\n",
       "      <td>A wonderful little production. &lt;br /&gt;&lt;br /&gt;The...</td>\n",
       "      <td>positive</td>\n",
       "    </tr>\n",
       "    <tr>\n",
       "      <th>2</th>\n",
       "      <td>I thought this was a wonderful way to spend ti...</td>\n",
       "      <td>positive</td>\n",
       "    </tr>\n",
       "    <tr>\n",
       "      <th>3</th>\n",
       "      <td>Basically there's a family where a little boy ...</td>\n",
       "      <td>negative</td>\n",
       "    </tr>\n",
       "    <tr>\n",
       "      <th>4</th>\n",
       "      <td>Petter Mattei's \"Love in the Time of Money\" is...</td>\n",
       "      <td>positive</td>\n",
       "    </tr>\n",
       "  </tbody>\n",
       "</table>\n",
       "</div>"
      ],
      "text/plain": [
       "                                              review sentiment\n",
       "0  One of the other reviewers has mentioned that ...  positive\n",
       "1  A wonderful little production. <br /><br />The...  positive\n",
       "2  I thought this was a wonderful way to spend ti...  positive\n",
       "3  Basically there's a family where a little boy ...  negative\n",
       "4  Petter Mattei's \"Love in the Time of Money\" is...  positive"
      ]
     },
     "execution_count": 63,
     "metadata": {},
     "output_type": "execute_result"
    }
   ],
   "source": [
    "data.head()"
   ]
  },
  {
   "cell_type": "code",
   "execution_count": 64,
   "id": "0aec3e1c",
   "metadata": {},
   "outputs": [
    {
     "data": {
      "text/html": [
       "<div>\n",
       "<style scoped>\n",
       "    .dataframe tbody tr th:only-of-type {\n",
       "        vertical-align: middle;\n",
       "    }\n",
       "\n",
       "    .dataframe tbody tr th {\n",
       "        vertical-align: top;\n",
       "    }\n",
       "\n",
       "    .dataframe thead th {\n",
       "        text-align: right;\n",
       "    }\n",
       "</style>\n",
       "<table border=\"1\" class=\"dataframe\">\n",
       "  <thead>\n",
       "    <tr style=\"text-align: right;\">\n",
       "      <th></th>\n",
       "      <th>review</th>\n",
       "      <th>sentiment</th>\n",
       "    </tr>\n",
       "  </thead>\n",
       "  <tbody>\n",
       "    <tr>\n",
       "      <th>49995</th>\n",
       "      <td>I thought this movie did a down right good job...</td>\n",
       "      <td>positive</td>\n",
       "    </tr>\n",
       "    <tr>\n",
       "      <th>49996</th>\n",
       "      <td>Bad plot, bad dialogue, bad acting, idiotic di...</td>\n",
       "      <td>negative</td>\n",
       "    </tr>\n",
       "    <tr>\n",
       "      <th>49997</th>\n",
       "      <td>I am a Catholic taught in parochial elementary...</td>\n",
       "      <td>negative</td>\n",
       "    </tr>\n",
       "    <tr>\n",
       "      <th>49998</th>\n",
       "      <td>I'm going to have to disagree with the previou...</td>\n",
       "      <td>negative</td>\n",
       "    </tr>\n",
       "    <tr>\n",
       "      <th>49999</th>\n",
       "      <td>No one expects the Star Trek movies to be high...</td>\n",
       "      <td>negative</td>\n",
       "    </tr>\n",
       "  </tbody>\n",
       "</table>\n",
       "</div>"
      ],
      "text/plain": [
       "                                                  review sentiment\n",
       "49995  I thought this movie did a down right good job...  positive\n",
       "49996  Bad plot, bad dialogue, bad acting, idiotic di...  negative\n",
       "49997  I am a Catholic taught in parochial elementary...  negative\n",
       "49998  I'm going to have to disagree with the previou...  negative\n",
       "49999  No one expects the Star Trek movies to be high...  negative"
      ]
     },
     "execution_count": 64,
     "metadata": {},
     "output_type": "execute_result"
    }
   ],
   "source": [
    "data.tail()"
   ]
  },
  {
   "cell_type": "code",
   "execution_count": 65,
   "id": "7bcae54c",
   "metadata": {},
   "outputs": [
    {
     "data": {
      "text/html": [
       "<div>\n",
       "<style scoped>\n",
       "    .dataframe tbody tr th:only-of-type {\n",
       "        vertical-align: middle;\n",
       "    }\n",
       "\n",
       "    .dataframe tbody tr th {\n",
       "        vertical-align: top;\n",
       "    }\n",
       "\n",
       "    .dataframe thead th {\n",
       "        text-align: right;\n",
       "    }\n",
       "</style>\n",
       "<table border=\"1\" class=\"dataframe\">\n",
       "  <thead>\n",
       "    <tr style=\"text-align: right;\">\n",
       "      <th></th>\n",
       "      <th>review</th>\n",
       "      <th>sentiment</th>\n",
       "    </tr>\n",
       "  </thead>\n",
       "  <tbody>\n",
       "    <tr>\n",
       "      <th>count</th>\n",
       "      <td>50000</td>\n",
       "      <td>50000</td>\n",
       "    </tr>\n",
       "    <tr>\n",
       "      <th>unique</th>\n",
       "      <td>49582</td>\n",
       "      <td>2</td>\n",
       "    </tr>\n",
       "    <tr>\n",
       "      <th>top</th>\n",
       "      <td>Loved today's show!!! It was a variety and not...</td>\n",
       "      <td>positive</td>\n",
       "    </tr>\n",
       "    <tr>\n",
       "      <th>freq</th>\n",
       "      <td>5</td>\n",
       "      <td>25000</td>\n",
       "    </tr>\n",
       "  </tbody>\n",
       "</table>\n",
       "</div>"
      ],
      "text/plain": [
       "                                                   review sentiment\n",
       "count                                               50000     50000\n",
       "unique                                              49582         2\n",
       "top     Loved today's show!!! It was a variety and not...  positive\n",
       "freq                                                    5     25000"
      ]
     },
     "execution_count": 65,
     "metadata": {},
     "output_type": "execute_result"
    }
   ],
   "source": [
    "data.describe()"
   ]
  },
  {
   "cell_type": "code",
   "execution_count": 66,
   "id": "3e85300a",
   "metadata": {},
   "outputs": [
    {
     "data": {
      "text/plain": [
       "Index(['review', 'sentiment'], dtype='object')"
      ]
     },
     "execution_count": 66,
     "metadata": {},
     "output_type": "execute_result"
    }
   ],
   "source": [
    "data.columns"
   ]
  },
  {
   "cell_type": "code",
   "execution_count": 67,
   "id": "3475ad58",
   "metadata": {},
   "outputs": [
    {
     "data": {
      "text/plain": [
       "(50000, 2)"
      ]
     },
     "execution_count": 67,
     "metadata": {},
     "output_type": "execute_result"
    }
   ],
   "source": [
    "data.shape"
   ]
  },
  {
   "cell_type": "code",
   "execution_count": 68,
   "id": "43cadc68",
   "metadata": {},
   "outputs": [
    {
     "data": {
      "text/plain": [
       "review       False\n",
       "sentiment    False\n",
       "dtype: bool"
      ]
     },
     "execution_count": 68,
     "metadata": {},
     "output_type": "execute_result"
    }
   ],
   "source": [
    "data.isnull().any()"
   ]
  },
  {
   "cell_type": "code",
   "execution_count": 69,
   "id": "68e2da25",
   "metadata": {},
   "outputs": [
    {
     "data": {
      "text/plain": [
       "positive    25000\n",
       "negative    25000\n",
       "Name: sentiment, dtype: int64"
      ]
     },
     "execution_count": 69,
     "metadata": {},
     "output_type": "execute_result"
    }
   ],
   "source": [
    "data['sentiment'].value_counts()"
   ]
  },
  {
   "cell_type": "markdown",
   "id": "f83293e8",
   "metadata": {},
   "source": [
    "## Text Normalization"
   ]
  },
  {
   "cell_type": "code",
   "execution_count": 70,
   "id": "8199671e",
   "metadata": {},
   "outputs": [],
   "source": [
    "import nltk\n",
    "from sklearn.feature_extraction.text import CountVectorizer\n",
    "from sklearn.feature_extraction.text import TfidfVectorizer \n",
    "from sklearn.preprocessing import LabelBinarizer\n",
    "from nltk.corpus import stopwords\n",
    "from nltk.stem.porter import PorterStemmer"
   ]
  },
  {
   "cell_type": "code",
   "execution_count": 71,
   "id": "31a92077",
   "metadata": {},
   "outputs": [],
   "source": [
    "import re\n",
    "from nltk.tokenize.toktok import ToktokTokenizer\n",
    "from sklearn.linear_model import LogisticRegression\n",
    "from sklearn.metrics import accuracy_score\n",
    "from bs4 import BeautifulSoup"
   ]
  },
  {
   "cell_type": "code",
   "execution_count": 72,
   "id": "6728b302",
   "metadata": {},
   "outputs": [
    {
     "name": "stderr",
     "output_type": "stream",
     "text": [
      "[nltk_data] Downloading package stopwords to\n",
      "[nltk_data]     C:\\Users\\HP\\AppData\\Roaming\\nltk_data...\n",
      "[nltk_data]   Package stopwords is already up-to-date!\n"
     ]
    },
    {
     "data": {
      "text/plain": [
       "True"
      ]
     },
     "execution_count": 72,
     "metadata": {},
     "output_type": "execute_result"
    }
   ],
   "source": [
    "nltk.download('stopwords')"
   ]
  },
  {
   "cell_type": "code",
   "execution_count": 73,
   "id": "7515e724",
   "metadata": {},
   "outputs": [],
   "source": [
    "#Removing the noisy text\n",
    "def noiseremoval_text(text):\n",
    "    soup = BeautifulSoup(text, \"html.parser\") #remove the html tags\n",
    "    text = soup.get_text()\n",
    "    text = re.sub('\\[[^]]*\\]','', text)\n",
    "    return text"
   ]
  },
  {
   "cell_type": "code",
   "execution_count": 74,
   "id": "9f9c806e",
   "metadata": {},
   "outputs": [],
   "source": [
    "#Apply the function on the review column of the dataframe and store back\n",
    "data['review'] = data['review'].apply(noiseremoval_text)"
   ]
  },
  {
   "cell_type": "code",
   "execution_count": 75,
   "id": "c8261a9d",
   "metadata": {},
   "outputs": [
    {
     "data": {
      "text/html": [
       "<div>\n",
       "<style scoped>\n",
       "    .dataframe tbody tr th:only-of-type {\n",
       "        vertical-align: middle;\n",
       "    }\n",
       "\n",
       "    .dataframe tbody tr th {\n",
       "        vertical-align: top;\n",
       "    }\n",
       "\n",
       "    .dataframe thead th {\n",
       "        text-align: right;\n",
       "    }\n",
       "</style>\n",
       "<table border=\"1\" class=\"dataframe\">\n",
       "  <thead>\n",
       "    <tr style=\"text-align: right;\">\n",
       "      <th></th>\n",
       "      <th>review</th>\n",
       "      <th>sentiment</th>\n",
       "    </tr>\n",
       "  </thead>\n",
       "  <tbody>\n",
       "    <tr>\n",
       "      <th>0</th>\n",
       "      <td>One of the other reviewers has mentioned that ...</td>\n",
       "      <td>positive</td>\n",
       "    </tr>\n",
       "    <tr>\n",
       "      <th>1</th>\n",
       "      <td>A wonderful little production. The filming tec...</td>\n",
       "      <td>positive</td>\n",
       "    </tr>\n",
       "    <tr>\n",
       "      <th>2</th>\n",
       "      <td>I thought this was a wonderful way to spend ti...</td>\n",
       "      <td>positive</td>\n",
       "    </tr>\n",
       "    <tr>\n",
       "      <th>3</th>\n",
       "      <td>Basically there's a family where a little boy ...</td>\n",
       "      <td>negative</td>\n",
       "    </tr>\n",
       "    <tr>\n",
       "      <th>4</th>\n",
       "      <td>Petter Mattei's \"Love in the Time of Money\" is...</td>\n",
       "      <td>positive</td>\n",
       "    </tr>\n",
       "  </tbody>\n",
       "</table>\n",
       "</div>"
      ],
      "text/plain": [
       "                                              review sentiment\n",
       "0  One of the other reviewers has mentioned that ...  positive\n",
       "1  A wonderful little production. The filming tec...  positive\n",
       "2  I thought this was a wonderful way to spend ti...  positive\n",
       "3  Basically there's a family where a little boy ...  negative\n",
       "4  Petter Mattei's \"Love in the Time of Money\" is...  positive"
      ]
     },
     "execution_count": 75,
     "metadata": {},
     "output_type": "execute_result"
    }
   ],
   "source": [
    "data.head()"
   ]
  },
  {
   "cell_type": "markdown",
   "id": "21c9573f",
   "metadata": {},
   "source": [
    "## Stemming"
   ]
  },
  {
   "cell_type": "code",
   "execution_count": 76,
   "id": "ce913f3b",
   "metadata": {},
   "outputs": [],
   "source": [
    "#Stemming the text\n",
    "def stemmer(text):\n",
    "    ps = nltk.porter.PorterStemmer()\n",
    "    text = ' '.join([ps.stem(word) for word in text.split()])\n",
    "    return text"
   ]
  },
  {
   "cell_type": "code",
   "execution_count": 77,
   "id": "8b6ae27e",
   "metadata": {},
   "outputs": [],
   "source": [
    "#Apply the function on review column\n",
    "data['review'] = data['review'].apply(stemmer)"
   ]
  },
  {
   "cell_type": "code",
   "execution_count": 78,
   "id": "edda4bf9",
   "metadata": {},
   "outputs": [
    {
     "data": {
      "text/html": [
       "<div>\n",
       "<style scoped>\n",
       "    .dataframe tbody tr th:only-of-type {\n",
       "        vertical-align: middle;\n",
       "    }\n",
       "\n",
       "    .dataframe tbody tr th {\n",
       "        vertical-align: top;\n",
       "    }\n",
       "\n",
       "    .dataframe thead th {\n",
       "        text-align: right;\n",
       "    }\n",
       "</style>\n",
       "<table border=\"1\" class=\"dataframe\">\n",
       "  <thead>\n",
       "    <tr style=\"text-align: right;\">\n",
       "      <th></th>\n",
       "      <th>review</th>\n",
       "      <th>sentiment</th>\n",
       "    </tr>\n",
       "  </thead>\n",
       "  <tbody>\n",
       "    <tr>\n",
       "      <th>0</th>\n",
       "      <td>one of the other review ha mention that after ...</td>\n",
       "      <td>positive</td>\n",
       "    </tr>\n",
       "    <tr>\n",
       "      <th>1</th>\n",
       "      <td>a wonder littl production. the film techniqu i...</td>\n",
       "      <td>positive</td>\n",
       "    </tr>\n",
       "    <tr>\n",
       "      <th>2</th>\n",
       "      <td>i thought thi wa a wonder way to spend time on...</td>\n",
       "      <td>positive</td>\n",
       "    </tr>\n",
       "    <tr>\n",
       "      <th>3</th>\n",
       "      <td>basic there' a famili where a littl boy (jake)...</td>\n",
       "      <td>negative</td>\n",
       "    </tr>\n",
       "    <tr>\n",
       "      <th>4</th>\n",
       "      <td>petter mattei' \"love in the time of money\" is ...</td>\n",
       "      <td>positive</td>\n",
       "    </tr>\n",
       "  </tbody>\n",
       "</table>\n",
       "</div>"
      ],
      "text/plain": [
       "                                              review sentiment\n",
       "0  one of the other review ha mention that after ...  positive\n",
       "1  a wonder littl production. the film techniqu i...  positive\n",
       "2  i thought thi wa a wonder way to spend time on...  positive\n",
       "3  basic there' a famili where a littl boy (jake)...  negative\n",
       "4  petter mattei' \"love in the time of money\" is ...  positive"
      ]
     },
     "execution_count": 78,
     "metadata": {},
     "output_type": "execute_result"
    }
   ],
   "source": [
    "data.head()"
   ]
  },
  {
   "cell_type": "code",
   "execution_count": 79,
   "id": "23d266b6",
   "metadata": {},
   "outputs": [],
   "source": [
    "from nltk.corpus import stopwords  \n",
    "from nltk.tokenize import word_tokenize  "
   ]
  },
  {
   "cell_type": "code",
   "execution_count": 80,
   "id": "11786a2a",
   "metadata": {},
   "outputs": [
    {
     "name": "stdout",
     "output_type": "stream",
     "text": [
      "{'how', \"mightn't\", 'itself', 'yourself', 'had', \"didn't\", 'here', 'against', 'them', 'we', 'll', 'before', 've', 'once', 'not', 'm', 'wouldn', \"aren't\", 'their', 'few', 'doesn', 'who', 'be', 'what', 'me', 'in', 'after', 'same', 'should', 'does', 'nor', 'do', 'own', 'herself', \"shan't\", 'these', 'shan', 'from', 'been', 'under', 'weren', 's', 'doing', 'ours', 'off', 'whom', \"should've\", \"mustn't\", 'mightn', 'will', 'the', 'he', 'hers', 'its', 'themselves', 'if', 'yours', \"you've\", 'his', 'while', 'having', 'below', 'didn', 'can', 'at', 'is', 'and', 'further', 'were', 'or', 'now', 'has', 'where', 'to', 'mustn', 'that', 'ain', 'it', 'd', 'of', 'her', 'our', 'they', 'so', 'into', 'she', 'as', 'about', 'are', 'myself', 'any', 'until', 'o', 'but', \"wouldn't\", 'through', 'theirs', \"don't\", 'because', \"you're\", 'for', 'there', 'above', 'all', 'couldn', 'with', 'an', 'ourselves', 'did', \"couldn't\", 't', 'than', 'up', \"that'll\", 'most', 'by', 'over', 'only', 'needn', 'him', 'am', 'too', 'yourselves', 'then', 'which', \"weren't\", \"haven't\", 'each', 'hadn', 'was', 'isn', 'have', 'again', 'this', 'y', \"wasn't\", \"shouldn't\", 'those', 'just', 'no', 'why', 'aren', 'shouldn', \"she's\", \"needn't\", \"hasn't\", 'when', 'down', 'your', 'both', 'other', 'i', 'during', 'being', \"hadn't\", 'hasn', \"won't\", \"you'd\", 'on', 're', 'himself', 'you', 'out', 'haven', 'won', \"it's\", \"isn't\", 'don', 'some', 'more', 'wasn', \"you'll\", \"doesn't\", 'such', 'very', 'my', 'between', 'ma', 'a'}\n"
     ]
    }
   ],
   "source": [
    "stop_wr=set(stopwords.words('english'))\n",
    "print(stop_wr)"
   ]
  },
  {
   "cell_type": "code",
   "execution_count": 81,
   "id": "012208ac",
   "metadata": {},
   "outputs": [],
   "source": [
    "#Removing the stopwords\n",
    "def remove_stopwords(text, is_lower_case=False):\n",
    "    #tokenization of text\n",
    "    tokenizers = ToktokTokenizer()\n",
    "    #Set english stopwords\n",
    "    tokens = tokenizers.tokenize(text)\n",
    "    tokens = [token.strip() for token in tokens]\n",
    "    if is_lower_case:\n",
    "        filltokens = [token for token in tokens if token not in stop_wr]\n",
    "    else:\n",
    "        filltokens = [token for token in tokens if token.lower() not in stop_wr]\n",
    "    filtered_texts = ' '.join(filltokens)\n",
    "    return filtered_texts"
   ]
  },
  {
   "cell_type": "code",
   "execution_count": 82,
   "id": "07d9a9f6",
   "metadata": {},
   "outputs": [],
   "source": [
    "data['review'] = data['review'].apply(remove_stopwords)"
   ]
  },
  {
   "cell_type": "code",
   "execution_count": 83,
   "id": "94fd284d",
   "metadata": {},
   "outputs": [
    {
     "data": {
      "text/html": [
       "<div>\n",
       "<style scoped>\n",
       "    .dataframe tbody tr th:only-of-type {\n",
       "        vertical-align: middle;\n",
       "    }\n",
       "\n",
       "    .dataframe tbody tr th {\n",
       "        vertical-align: top;\n",
       "    }\n",
       "\n",
       "    .dataframe thead th {\n",
       "        text-align: right;\n",
       "    }\n",
       "</style>\n",
       "<table border=\"1\" class=\"dataframe\">\n",
       "  <thead>\n",
       "    <tr style=\"text-align: right;\">\n",
       "      <th></th>\n",
       "      <th>review</th>\n",
       "      <th>sentiment</th>\n",
       "    </tr>\n",
       "  </thead>\n",
       "  <tbody>\n",
       "    <tr>\n",
       "      <th>0</th>\n",
       "      <td>one review ha mention watch 1 oz episod ' hook...</td>\n",
       "      <td>positive</td>\n",
       "    </tr>\n",
       "    <tr>\n",
       "      <th>1</th>\n",
       "      <td>wonder littl production. film techniqu veri un...</td>\n",
       "      <td>positive</td>\n",
       "    </tr>\n",
       "    <tr>\n",
       "      <th>2</th>\n",
       "      <td>thought thi wa wonder way spend time hot summe...</td>\n",
       "      <td>positive</td>\n",
       "    </tr>\n",
       "    <tr>\n",
       "      <th>3</th>\n",
       "      <td>basic ' famili littl boy ( jake ) think ' zomb...</td>\n",
       "      <td>negative</td>\n",
       "    </tr>\n",
       "    <tr>\n",
       "      <th>4</th>\n",
       "      <td>petter mattei ' \" love time money \" visual stu...</td>\n",
       "      <td>positive</td>\n",
       "    </tr>\n",
       "  </tbody>\n",
       "</table>\n",
       "</div>"
      ],
      "text/plain": [
       "                                              review sentiment\n",
       "0  one review ha mention watch 1 oz episod ' hook...  positive\n",
       "1  wonder littl production. film techniqu veri un...  positive\n",
       "2  thought thi wa wonder way spend time hot summe...  positive\n",
       "3  basic ' famili littl boy ( jake ) think ' zomb...  negative\n",
       "4  petter mattei ' \" love time money \" visual stu...  positive"
      ]
     },
     "execution_count": 83,
     "metadata": {},
     "output_type": "execute_result"
    }
   ],
   "source": [
    "data.head()"
   ]
  },
  {
   "cell_type": "markdown",
   "id": "3a0f1603",
   "metadata": {},
   "source": [
    "## Train test split"
   ]
  },
  {
   "cell_type": "code",
   "execution_count": 84,
   "id": "ceaae415",
   "metadata": {},
   "outputs": [],
   "source": [
    "train_reviews_data = data.review[:30000]\n",
    "test_reviews_data = data.review[30000:]"
   ]
  },
  {
   "cell_type": "markdown",
   "id": "852f69c0",
   "metadata": {},
   "source": [
    "## Bag of words"
   ]
  },
  {
   "cell_type": "code",
   "execution_count": 85,
   "id": "5d31b2f0",
   "metadata": {},
   "outputs": [
    {
     "name": "stdout",
     "output_type": "stream",
     "text": [
      "BOW_cv_train:  (30000, 4954557)\n",
      "BOW_cv_test:  (20000, 4954557)\n"
     ]
    }
   ],
   "source": [
    "cv = CountVectorizer(min_df=0, max_df=1, binary=False, ngram_range = (1,3))\n",
    "cv_train = cv.fit_transform(train_reviews_data)\n",
    "cv_test = cv.transform(test_reviews_data)\n",
    "\n",
    "print(\"BOW_cv_train: \", cv_train.shape)\n",
    "print(\"BOW_cv_test: \", cv_test.shape)"
   ]
  },
  {
   "cell_type": "markdown",
   "id": "6eecb63d",
   "metadata": {},
   "source": [
    "## TF_IDF"
   ]
  },
  {
   "cell_type": "code",
   "execution_count": 86,
   "id": "3af61c05",
   "metadata": {},
   "outputs": [
    {
     "name": "stdout",
     "output_type": "stream",
     "text": [
      "Tfidf_train:  (30000, 4954557)\n",
      "Tfidf_test:  (20000, 4954557)\n"
     ]
    }
   ],
   "source": [
    "tf = TfidfVectorizer(min_df=0, max_df=1, use_idf=True, ngram_range=(1,3))\n",
    "tf_train = tf.fit_transform(train_reviews_data)\n",
    "tf_test = tf.transform(test_reviews_data)\n",
    "\n",
    "print(\"Tfidf_train: \", tf_train.shape)\n",
    "print(\"Tfidf_test: \", tf_test.shape)"
   ]
  },
  {
   "cell_type": "markdown",
   "id": "b69eae60",
   "metadata": {},
   "source": [
    "## Lable encoding "
   ]
  },
  {
   "cell_type": "code",
   "execution_count": 87,
   "id": "19eb8ff2",
   "metadata": {},
   "outputs": [
    {
     "name": "stdout",
     "output_type": "stream",
     "text": [
      "Sentiment data shape : (50000, 1)\n"
     ]
    }
   ],
   "source": [
    "#labeling the sentient data\n",
    "label=LabelBinarizer()\n",
    "#transformed sentiment data\n",
    "sentiment_data=label.fit_transform(data['sentiment'])\n",
    "# print(sentiment_data[0:5])\n",
    "print(\"Sentiment data shape :\", sentiment_data.shape)"
   ]
  },
  {
   "cell_type": "code",
   "execution_count": 88,
   "id": "b0ca7807",
   "metadata": {},
   "outputs": [],
   "source": [
    "# train_test_split for target variable \n",
    "train_data=data.sentiment[:30000]\n",
    "test_data=data.sentiment[30000:]"
   ]
  },
  {
   "cell_type": "markdown",
   "id": "1b024978",
   "metadata": {},
   "source": [
    "## Building logistic regression model"
   ]
  },
  {
   "cell_type": "code",
   "execution_count": 89,
   "id": "b9831cc9",
   "metadata": {},
   "outputs": [
    {
     "name": "stdout",
     "output_type": "stream",
     "text": [
      "LogisticRegression(C=1, max_iter=500, random_state=42)\n",
      "LogisticRegression(C=1, max_iter=500, random_state=42)\n"
     ]
    }
   ],
   "source": [
    "#training the model\n",
    "logistic=LogisticRegression(penalty='l2',max_iter=500,C=1,random_state=42)\n",
    "                            \n",
    "#Fitting the model for Bag of words\n",
    "LogReg_bow=logistic.fit(cv_train,train_data)\n",
    "print(LogReg_bow)\n",
    "#Fitting the model for tfidf features\n",
    "LogReg_tfidf=logistic.fit(tf_train,train_data)\n",
    "print(LogReg_tfidf)"
   ]
  },
  {
   "cell_type": "code",
   "execution_count": 90,
   "id": "9b1700c8",
   "metadata": {},
   "outputs": [
    {
     "name": "stdout",
     "output_type": "stream",
     "text": [
      "Predicted sentiments for bag of words:  ['negative' 'negative' 'negative' ... 'negative' 'positive' 'positive']\n"
     ]
    }
   ],
   "source": [
    "#Predicting the model for bag of words model\n",
    "LogReg_bow_predict=logistic.predict(cv_test)\n",
    "print(\"Predicted sentiments for bag of words: \", LogReg_bow_predict)"
   ]
  },
  {
   "cell_type": "code",
   "execution_count": 91,
   "id": "902a4692",
   "metadata": {},
   "outputs": [
    {
     "name": "stdout",
     "output_type": "stream",
     "text": [
      "Predicted sentiments for TF_IDF:  ['negative' 'negative' 'negative' ... 'negative' 'positive' 'positive']\n"
     ]
    }
   ],
   "source": [
    "#Predicting the model for TF_IDF\n",
    "LogReg_tfidf_predict=logistic.predict(tf_test)\n",
    "print(\"Predicted sentiments for TF_IDF: \", LogReg_tfidf_predict)"
   ]
  },
  {
   "cell_type": "markdown",
   "id": "0cb9e339",
   "metadata": {},
   "source": [
    "## Accuracy for bag of words and TF_IDF"
   ]
  },
  {
   "cell_type": "code",
   "execution_count": 92,
   "id": "97e3dc94",
   "metadata": {},
   "outputs": [
    {
     "name": "stdout",
     "output_type": "stream",
     "text": [
      "Accuracy for logistic regression using bag of words  : 0.74255\n"
     ]
    }
   ],
   "source": [
    "#Accuracy score for bag of words features\n",
    "LogReg_bow_score=accuracy_score(test_data,LogReg_bow_predict)\n",
    "print(\"Accuracy for logistic regression using bag of words  :\",LogReg_bow_score)"
   ]
  },
  {
   "cell_type": "code",
   "execution_count": 93,
   "id": "c1a30f02",
   "metadata": {},
   "outputs": [
    {
     "name": "stdout",
     "output_type": "stream",
     "text": [
      "Accuracy for logistic regression using TF_IDF  : 0.7426\n"
     ]
    }
   ],
   "source": [
    "#Accuracy score for TF_IDF features\n",
    "LogReg_tfidf_score=accuracy_score(test_data,LogReg_tfidf_predict)\n",
    "print(\"Accuracy for logistic regression using TF_IDF  :\",LogReg_tfidf_score)"
   ]
  }
 ],
 "metadata": {
  "kernelspec": {
   "display_name": "Python 3 (ipykernel)",
   "language": "python",
   "name": "python3"
  },
  "language_info": {
   "codemirror_mode": {
    "name": "ipython",
    "version": 3
   },
   "file_extension": ".py",
   "mimetype": "text/x-python",
   "name": "python",
   "nbconvert_exporter": "python",
   "pygments_lexer": "ipython3",
   "version": "3.8.10"
  }
 },
 "nbformat": 4,
 "nbformat_minor": 5
}
